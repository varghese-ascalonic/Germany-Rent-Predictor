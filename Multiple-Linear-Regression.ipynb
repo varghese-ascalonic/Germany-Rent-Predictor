{
  "nbformat": 4,
  "nbformat_minor": 0,
  "metadata": {
    "colab": {
      "name": "Germany Rent.ipynb",
      "provenance": [],
      "collapsed_sections": [],
      "authorship_tag": "ABX9TyPERZI3JjwL4rcpHRqLnRHt",
      "include_colab_link": true
    },
    "kernelspec": {
      "name": "python3",
      "display_name": "Python 3"
    },
    "language_info": {
      "name": "python"
    }
  },
  "cells": [
    {
      "cell_type": "markdown",
      "metadata": {
        "id": "view-in-github",
        "colab_type": "text"
      },
      "source": [
        "<a href=\"https://colab.research.google.com/github/varghese-ascalonic/Germany-Rent-Predictor/blob/main/Multiple-Linear-Regression.ipynb\" target=\"_parent\"><img src=\"https://colab.research.google.com/assets/colab-badge.svg\" alt=\"Open In Colab\"/></a>"
      ]
    },
    {
      "cell_type": "markdown",
      "metadata": {
        "id": "HKoDa9CoTQYN"
      },
      "source": [
        "Fetch Data from kaggle.\n",
        "The dataset used can be found [here](https://www.kaggle.com/corrieaar/apartment-rental-offers-in-germany/code).\n"
      ]
    },
    {
      "cell_type": "code",
      "metadata": {
        "colab": {
          "resources": {
            "http://localhost:8080/nbextensions/google.colab/files.js": {
              "data": "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",
              "ok": true,
              "headers": [
                [
                  "content-type",
                  "application/javascript"
                ]
              ],
              "status": 200,
              "status_text": ""
            }
          },
          "base_uri": "https://localhost:8080/",
          "height": 1000
        },
        "id": "99sGKxq1QOxx",
        "outputId": "f8101d9e-cd30-4677-c71c-4f6fe7e050f1"
      },
      "source": [
        "! pip install -q kaggle\n",
        "from google.colab import files\n",
        "files.upload()\n",
        "! mkdir ~/.kaggle\n",
        "! cp kaggle.json ~/.kaggle/\n",
        "! chmod 600 ~/.kaggle/kaggle.json\n",
        "! kaggle datasets list\n",
        "! kaggle datasets download -d \"corrieaar/apartment-rental-offers-in-germany/code\"\n",
        "! unzip \"apartment-rental-offers-in-germany.zip\"\n",
        "\n",
        "#the data is present is the CSV file immo_data.csv after the archive is extracted\n",
        "import pandas as pd\n",
        "df = pd.read_csv(\"immo_data.csv\")\n",
        "df.head()"
      ],
      "execution_count": 24,
      "outputs": [
        {
          "output_type": "display_data",
          "data": {
            "text/html": [
              "\n",
              "     <input type=\"file\" id=\"files-142623b4-2fef-40e9-ae6c-5c6fcf121ece\" name=\"files[]\" multiple disabled\n",
              "        style=\"border:none\" />\n",
              "     <output id=\"result-142623b4-2fef-40e9-ae6c-5c6fcf121ece\">\n",
              "      Upload widget is only available when the cell has been executed in the\n",
              "      current browser session. Please rerun this cell to enable.\n",
              "      </output>\n",
              "      <script src=\"/nbextensions/google.colab/files.js\"></script> "
            ],
            "text/plain": [
              "<IPython.core.display.HTML object>"
            ]
          },
          "metadata": {
            "tags": []
          }
        },
        {
          "output_type": "stream",
          "text": [
            "Saving kaggle.json to kaggle (1).json\n",
            "mkdir: cannot create directory ‘/root/.kaggle’: File exists\n",
            "Warning: Looks like you're using an outdated API Version, please consider updating (server 1.5.12 / client 1.5.4)\n",
            "ref                                                         title                                              size  lastUpdated          downloadCount  \n",
            "----------------------------------------------------------  ------------------------------------------------  -----  -------------------  -------------  \n",
            "gpreda/reddit-vaccine-myths                                 Reddit Vaccine Myths                              221KB  2021-03-26 07:27:32           1017  \n",
            "crowww/a-large-scale-fish-dataset                           A Large Scale Fish Dataset                          3GB  2021-02-17 16:10:44            795  \n",
            "dhruvildave/wikibooks-dataset                               Wikibooks Dataset                                   1GB  2021-02-18 10:08:27            707  \n",
            "imsparsh/musicnet-dataset                                   MusicNet Dataset                                   22GB  2021-02-18 14:12:19            306  \n",
            "fatiimaezzahra/famous-iconic-women                          Famous Iconic Women                               838MB  2021-02-28 14:56:00            238  \n",
            "nickuzmenkov/nih-chest-xrays-tfrecords                      NIH Chest X-rays TFRecords                         11GB  2021-03-09 04:49:23            148  \n",
            "mathurinache/the-lj-speech-dataset                          The LJ Speech Dataset                               3GB  2021-02-15 09:19:54             60  \n",
            "nickuzmenkov/ranzcr-clip-kfold-tfrecords                    RANZCR CLiP KFold TFRecords                         2GB  2021-02-21 13:29:51             41  \n",
            "alsgroup/end-als                                            End ALS Kaggle Challenge                           12GB  2021-03-16 22:31:35             83  \n",
            "simiotic/github-code-snippets                               GitHub Code Snippets                                7GB  2021-03-03 11:34:39             29  \n",
            "imsparsh/accentdb-core-extended                             AccentDB - Core & Extended                          6GB  2021-02-17 14:22:54             25  \n",
            "coloradokb/dandelionimages                                  DandelionImages                                     4GB  2021-02-19 20:03:47            106  \n",
            "mathurinache/twitter-edge-nodes                             Twitter Edge Nodes                                342MB  2021-03-08 06:43:04             47  \n",
            "landrykezebou/lvzhdr-tone-mapping-benchmark-dataset-tmonet  LVZ-HDR Tone Mapping Benchmark Dataset (TMO-Net)   24GB  2021-03-01 05:03:40             24  \n",
            "promptcloud/careerbuilder-job-listing-2020                  Careerbuilder Job Listing 2020                     42MB  2021-03-05 06:59:52             72  \n",
            "stuartjames/lights                                          LightS: Light Specularity Dataset                  18GB  2021-02-18 14:32:26             23  \n",
            "shivamb/netflix-shows                                       Netflix Movies and TV Shows                         1MB  2021-01-18 16:20:26         120999  \n",
            "arashnic/hr-analytics-job-change-of-data-scientists         HR Analytics: Job Change of Data Scientists       295KB  2020-12-07 00:25:10          16805  \n",
            "jsphyg/weather-dataset-rattle-package                       Rain in Australia                                   4MB  2020-12-11 10:26:12          41134  \n",
            "michau96/restaurant-business-rankings-2020                  Restaurant Business Rankings 2020                  16KB  2021-01-30 14:20:45          10386  \n",
            "apartment-rental-offers-in-germany.zip: Skipping, found more recently modified local copy (use --force to force download)\n",
            "Archive:  apartment-rental-offers-in-germany.zip\n",
            "replace immo_data.csv? [y]es, [n]o, [A]ll, [N]one, [r]ename: y\n",
            "  inflating: immo_data.csv           \n"
          ],
          "name": "stdout"
        },
        {
          "output_type": "execute_result",
          "data": {
            "text/html": [
              "<div>\n",
              "<style scoped>\n",
              "    .dataframe tbody tr th:only-of-type {\n",
              "        vertical-align: middle;\n",
              "    }\n",
              "\n",
              "    .dataframe tbody tr th {\n",
              "        vertical-align: top;\n",
              "    }\n",
              "\n",
              "    .dataframe thead th {\n",
              "        text-align: right;\n",
              "    }\n",
              "</style>\n",
              "<table border=\"1\" class=\"dataframe\">\n",
              "  <thead>\n",
              "    <tr style=\"text-align: right;\">\n",
              "      <th></th>\n",
              "      <th>regio1</th>\n",
              "      <th>serviceCharge</th>\n",
              "      <th>heatingType</th>\n",
              "      <th>telekomTvOffer</th>\n",
              "      <th>telekomHybridUploadSpeed</th>\n",
              "      <th>newlyConst</th>\n",
              "      <th>balcony</th>\n",
              "      <th>picturecount</th>\n",
              "      <th>pricetrend</th>\n",
              "      <th>telekomUploadSpeed</th>\n",
              "      <th>totalRent</th>\n",
              "      <th>yearConstructed</th>\n",
              "      <th>scoutId</th>\n",
              "      <th>noParkSpaces</th>\n",
              "      <th>firingTypes</th>\n",
              "      <th>hasKitchen</th>\n",
              "      <th>geo_bln</th>\n",
              "      <th>cellar</th>\n",
              "      <th>yearConstructedRange</th>\n",
              "      <th>baseRent</th>\n",
              "      <th>houseNumber</th>\n",
              "      <th>livingSpace</th>\n",
              "      <th>geo_krs</th>\n",
              "      <th>condition</th>\n",
              "      <th>interiorQual</th>\n",
              "      <th>petsAllowed</th>\n",
              "      <th>street</th>\n",
              "      <th>streetPlain</th>\n",
              "      <th>lift</th>\n",
              "      <th>baseRentRange</th>\n",
              "      <th>typeOfFlat</th>\n",
              "      <th>geo_plz</th>\n",
              "      <th>noRooms</th>\n",
              "      <th>thermalChar</th>\n",
              "      <th>floor</th>\n",
              "      <th>numberOfFloors</th>\n",
              "      <th>noRoomsRange</th>\n",
              "      <th>garden</th>\n",
              "      <th>livingSpaceRange</th>\n",
              "      <th>regio2</th>\n",
              "      <th>regio3</th>\n",
              "      <th>description</th>\n",
              "      <th>facilities</th>\n",
              "      <th>heatingCosts</th>\n",
              "      <th>energyEfficiencyClass</th>\n",
              "      <th>lastRefurbish</th>\n",
              "      <th>electricityBasePrice</th>\n",
              "      <th>electricityKwhPrice</th>\n",
              "      <th>date</th>\n",
              "    </tr>\n",
              "  </thead>\n",
              "  <tbody>\n",
              "    <tr>\n",
              "      <th>0</th>\n",
              "      <td>Nordrhein_Westfalen</td>\n",
              "      <td>245.00</td>\n",
              "      <td>central_heating</td>\n",
              "      <td>ONE_YEAR_FREE</td>\n",
              "      <td>NaN</td>\n",
              "      <td>False</td>\n",
              "      <td>False</td>\n",
              "      <td>6</td>\n",
              "      <td>4.62</td>\n",
              "      <td>10.0</td>\n",
              "      <td>840.0</td>\n",
              "      <td>1965.0</td>\n",
              "      <td>96107057</td>\n",
              "      <td>1.0</td>\n",
              "      <td>oil</td>\n",
              "      <td>False</td>\n",
              "      <td>Nordrhein_Westfalen</td>\n",
              "      <td>True</td>\n",
              "      <td>2.0</td>\n",
              "      <td>595.0</td>\n",
              "      <td>244</td>\n",
              "      <td>86.00</td>\n",
              "      <td>Dortmund</td>\n",
              "      <td>well_kept</td>\n",
              "      <td>normal</td>\n",
              "      <td>NaN</td>\n",
              "      <td>Sch&amp;uuml;ruferstra&amp;szlig;e</td>\n",
              "      <td>Schüruferstraße</td>\n",
              "      <td>False</td>\n",
              "      <td>4</td>\n",
              "      <td>ground_floor</td>\n",
              "      <td>44269</td>\n",
              "      <td>4.0</td>\n",
              "      <td>181.4</td>\n",
              "      <td>1.0</td>\n",
              "      <td>3.0</td>\n",
              "      <td>4</td>\n",
              "      <td>True</td>\n",
              "      <td>4</td>\n",
              "      <td>Dortmund</td>\n",
              "      <td>Schüren</td>\n",
              "      <td>Die ebenerdig zu erreichende Erdgeschosswohnun...</td>\n",
              "      <td>Die Wohnung ist mit Laminat ausgelegt. Das Bad...</td>\n",
              "      <td>NaN</td>\n",
              "      <td>NaN</td>\n",
              "      <td>NaN</td>\n",
              "      <td>NaN</td>\n",
              "      <td>NaN</td>\n",
              "      <td>May19</td>\n",
              "    </tr>\n",
              "    <tr>\n",
              "      <th>1</th>\n",
              "      <td>Rheinland_Pfalz</td>\n",
              "      <td>134.00</td>\n",
              "      <td>self_contained_central_heating</td>\n",
              "      <td>ONE_YEAR_FREE</td>\n",
              "      <td>NaN</td>\n",
              "      <td>False</td>\n",
              "      <td>True</td>\n",
              "      <td>8</td>\n",
              "      <td>3.47</td>\n",
              "      <td>10.0</td>\n",
              "      <td>NaN</td>\n",
              "      <td>1871.0</td>\n",
              "      <td>111378734</td>\n",
              "      <td>2.0</td>\n",
              "      <td>gas</td>\n",
              "      <td>False</td>\n",
              "      <td>Rheinland_Pfalz</td>\n",
              "      <td>False</td>\n",
              "      <td>1.0</td>\n",
              "      <td>800.0</td>\n",
              "      <td>NaN</td>\n",
              "      <td>89.00</td>\n",
              "      <td>Rhein_Pfalz_Kreis</td>\n",
              "      <td>refurbished</td>\n",
              "      <td>normal</td>\n",
              "      <td>no</td>\n",
              "      <td>no_information</td>\n",
              "      <td>NaN</td>\n",
              "      <td>False</td>\n",
              "      <td>5</td>\n",
              "      <td>ground_floor</td>\n",
              "      <td>67459</td>\n",
              "      <td>3.0</td>\n",
              "      <td>NaN</td>\n",
              "      <td>NaN</td>\n",
              "      <td>NaN</td>\n",
              "      <td>3</td>\n",
              "      <td>False</td>\n",
              "      <td>4</td>\n",
              "      <td>Rhein_Pfalz_Kreis</td>\n",
              "      <td>Böhl_Iggelheim</td>\n",
              "      <td>Alles neu macht der Mai – so kann es auch für ...</td>\n",
              "      <td>NaN</td>\n",
              "      <td>NaN</td>\n",
              "      <td>NaN</td>\n",
              "      <td>2019.0</td>\n",
              "      <td>NaN</td>\n",
              "      <td>NaN</td>\n",
              "      <td>May19</td>\n",
              "    </tr>\n",
              "    <tr>\n",
              "      <th>2</th>\n",
              "      <td>Sachsen</td>\n",
              "      <td>255.00</td>\n",
              "      <td>floor_heating</td>\n",
              "      <td>ONE_YEAR_FREE</td>\n",
              "      <td>10.0</td>\n",
              "      <td>True</td>\n",
              "      <td>True</td>\n",
              "      <td>8</td>\n",
              "      <td>2.72</td>\n",
              "      <td>2.4</td>\n",
              "      <td>1300.0</td>\n",
              "      <td>2019.0</td>\n",
              "      <td>113147523</td>\n",
              "      <td>1.0</td>\n",
              "      <td>NaN</td>\n",
              "      <td>False</td>\n",
              "      <td>Sachsen</td>\n",
              "      <td>True</td>\n",
              "      <td>9.0</td>\n",
              "      <td>965.0</td>\n",
              "      <td>4</td>\n",
              "      <td>83.80</td>\n",
              "      <td>Dresden</td>\n",
              "      <td>first_time_use</td>\n",
              "      <td>sophisticated</td>\n",
              "      <td>NaN</td>\n",
              "      <td>Turnerweg</td>\n",
              "      <td>Turnerweg</td>\n",
              "      <td>True</td>\n",
              "      <td>6</td>\n",
              "      <td>apartment</td>\n",
              "      <td>1097</td>\n",
              "      <td>3.0</td>\n",
              "      <td>NaN</td>\n",
              "      <td>3.0</td>\n",
              "      <td>4.0</td>\n",
              "      <td>3</td>\n",
              "      <td>False</td>\n",
              "      <td>4</td>\n",
              "      <td>Dresden</td>\n",
              "      <td>Äußere_Neustadt_Antonstadt</td>\n",
              "      <td>Der Neubau entsteht im Herzen der Dresdner Neu...</td>\n",
              "      <td>* 9 m² Balkon\\n* Bad mit bodengleicher Dusche,...</td>\n",
              "      <td>NaN</td>\n",
              "      <td>NaN</td>\n",
              "      <td>NaN</td>\n",
              "      <td>NaN</td>\n",
              "      <td>NaN</td>\n",
              "      <td>Oct19</td>\n",
              "    </tr>\n",
              "    <tr>\n",
              "      <th>3</th>\n",
              "      <td>Sachsen</td>\n",
              "      <td>58.15</td>\n",
              "      <td>district_heating</td>\n",
              "      <td>ONE_YEAR_FREE</td>\n",
              "      <td>NaN</td>\n",
              "      <td>False</td>\n",
              "      <td>True</td>\n",
              "      <td>9</td>\n",
              "      <td>1.53</td>\n",
              "      <td>40.0</td>\n",
              "      <td>NaN</td>\n",
              "      <td>1964.0</td>\n",
              "      <td>108890903</td>\n",
              "      <td>NaN</td>\n",
              "      <td>district_heating</td>\n",
              "      <td>False</td>\n",
              "      <td>Sachsen</td>\n",
              "      <td>False</td>\n",
              "      <td>2.0</td>\n",
              "      <td>343.0</td>\n",
              "      <td>35</td>\n",
              "      <td>58.15</td>\n",
              "      <td>Mittelsachsen_Kreis</td>\n",
              "      <td>NaN</td>\n",
              "      <td>NaN</td>\n",
              "      <td>NaN</td>\n",
              "      <td>Gl&amp;uuml;ck-Auf-Stra&amp;szlig;e</td>\n",
              "      <td>Glück-Auf-Straße</td>\n",
              "      <td>False</td>\n",
              "      <td>2</td>\n",
              "      <td>other</td>\n",
              "      <td>9599</td>\n",
              "      <td>3.0</td>\n",
              "      <td>86.0</td>\n",
              "      <td>3.0</td>\n",
              "      <td>NaN</td>\n",
              "      <td>3</td>\n",
              "      <td>False</td>\n",
              "      <td>2</td>\n",
              "      <td>Mittelsachsen_Kreis</td>\n",
              "      <td>Freiberg</td>\n",
              "      <td>Abseits von Lärm und Abgasen in Ihre neue Wohn...</td>\n",
              "      <td>NaN</td>\n",
              "      <td>87.23</td>\n",
              "      <td>NaN</td>\n",
              "      <td>NaN</td>\n",
              "      <td>NaN</td>\n",
              "      <td>NaN</td>\n",
              "      <td>May19</td>\n",
              "    </tr>\n",
              "    <tr>\n",
              "      <th>4</th>\n",
              "      <td>Bremen</td>\n",
              "      <td>138.00</td>\n",
              "      <td>self_contained_central_heating</td>\n",
              "      <td>NaN</td>\n",
              "      <td>NaN</td>\n",
              "      <td>False</td>\n",
              "      <td>True</td>\n",
              "      <td>19</td>\n",
              "      <td>2.46</td>\n",
              "      <td>NaN</td>\n",
              "      <td>903.0</td>\n",
              "      <td>1950.0</td>\n",
              "      <td>114751222</td>\n",
              "      <td>NaN</td>\n",
              "      <td>gas</td>\n",
              "      <td>False</td>\n",
              "      <td>Bremen</td>\n",
              "      <td>False</td>\n",
              "      <td>1.0</td>\n",
              "      <td>765.0</td>\n",
              "      <td>10</td>\n",
              "      <td>84.97</td>\n",
              "      <td>Bremen</td>\n",
              "      <td>refurbished</td>\n",
              "      <td>NaN</td>\n",
              "      <td>NaN</td>\n",
              "      <td>Hermann-Henrich-Meier-Allee</td>\n",
              "      <td>Hermann-Henrich-Meier-Allee</td>\n",
              "      <td>False</td>\n",
              "      <td>5</td>\n",
              "      <td>apartment</td>\n",
              "      <td>28213</td>\n",
              "      <td>3.0</td>\n",
              "      <td>188.9</td>\n",
              "      <td>1.0</td>\n",
              "      <td>NaN</td>\n",
              "      <td>3</td>\n",
              "      <td>False</td>\n",
              "      <td>4</td>\n",
              "      <td>Bremen</td>\n",
              "      <td>Neu_Schwachhausen</td>\n",
              "      <td>Es handelt sich hier um ein saniertes Mehrfami...</td>\n",
              "      <td>Diese Wohnung wurde neu saniert und ist wie fo...</td>\n",
              "      <td>NaN</td>\n",
              "      <td>NaN</td>\n",
              "      <td>NaN</td>\n",
              "      <td>NaN</td>\n",
              "      <td>NaN</td>\n",
              "      <td>Feb20</td>\n",
              "    </tr>\n",
              "  </tbody>\n",
              "</table>\n",
              "</div>"
            ],
            "text/plain": [
              "                regio1  serviceCharge  ... electricityKwhPrice   date\n",
              "0  Nordrhein_Westfalen         245.00  ...                 NaN  May19\n",
              "1      Rheinland_Pfalz         134.00  ...                 NaN  May19\n",
              "2              Sachsen         255.00  ...                 NaN  Oct19\n",
              "3              Sachsen          58.15  ...                 NaN  May19\n",
              "4               Bremen         138.00  ...                 NaN  Feb20\n",
              "\n",
              "[5 rows x 49 columns]"
            ]
          },
          "metadata": {
            "tags": []
          },
          "execution_count": 24
        }
      ]
    },
    {
      "cell_type": "markdown",
      "metadata": {
        "id": "UIbMoZQ9fMeA"
      },
      "source": [
        "Living Space v/s Total Rent"
      ]
    },
    {
      "cell_type": "code",
      "metadata": {
        "colab": {
          "base_uri": "https://localhost:8080/",
          "height": 279
        },
        "id": "n4XHxiTvUHzR",
        "outputId": "e07a83a4-a3a4-4acd-b48d-a3481541cf0c"
      },
      "source": [
        "import numpy as np\n",
        "import matplotlib.pyplot as plt\n",
        "\n",
        "df = df.dropna()\n",
        "\n",
        "y = df[[\"totalRent\"]]\n",
        "x = df[[\"livingSpace\"]]\n",
        "\n",
        "plt.scatter(x, y)\n",
        "plt.xlabel(\"Living Space (in sqmm)\")\n",
        "plt.ylabel(\"Total Rent (in euroes)\")\n",
        "plt.show()"
      ],
      "execution_count": 39,
      "outputs": [
        {
          "output_type": "display_data",
          "data": {
            "image/png": "[encoded data removed]",
            "text/plain": [
              "<Figure size 432x288 with 1 Axes>"
            ]
          },
          "metadata": {
            "tags": [],
            "needs_background": "light"
          }
        }
      ]
    },
    {
      "cell_type": "markdown",
      "metadata": {
        "id": "1fh1eRM5iXpX"
      },
      "source": [
        "Linear Regression with living space as independant variable"
      ]
    },
    {
      "cell_type": "code",
      "metadata": {
        "colab": {
          "base_uri": "https://localhost:8080/",
          "height": 330
        },
        "id": "5OycLChMfXDf",
        "outputId": "fdb0d3f2-df0a-47d5-ad72-be1b10feaaf6"
      },
      "source": [
        "from sklearn.linear_model import LinearRegression\n",
        "from sklearn.model_selection import train_test_split\n",
        "from sklearn.metrics import r2_score\n",
        "\n",
        "x_train, x_test, y_train, y_test = train_test_split(x, y, test_size=0.3)\n",
        "reg = LinearRegression().fit(x_train, y_train)\n",
        "\n",
        "plt.scatter(x, y,  color='blue')\n",
        "plt.plot(x_train, reg.coef_[0][0]*x_train + reg.intercept_[0], '-r')\n",
        "plt.xlabel(\"Living Space (in sqmm)\")\n",
        "plt.ylabel(\"Total Rent (in euroes)\")\n",
        "\n",
        "predicted_y = reg.predict(x_test)\n",
        "\n",
        "print(\"Mean absolute error: %.2f\" % np.mean(np.absolute(predicted_y - y_test)))\n",
        "print(\"Residual sum of squares (MSE): %.2f\" % np.mean((predicted_y - y_test) ** 2))\n",
        "print(\"R2-score: %.2f\" % r2_score(predicted_y , y_test) )"
      ],
      "execution_count": 49,
      "outputs": [
        {
          "output_type": "stream",
          "text": [
            "Mean absolute error: 331.92\n",
            "Residual sum of squares (MSE): 232023.50\n",
            "R2-score: -0.73\n"
          ],
          "name": "stdout"
        },
        {
          "output_type": "display_data",
          "data": {
            "image/png": "[encoded data removed]",
            "text/plain": [
              "<Figure size 432x288 with 1 Axes>"
            ]
          },
          "metadata": {
            "tags": [],
            "needs_background": "light"
          }
        }
      ]
    },
    {
      "cell_type": "markdown",
      "metadata": {
        "id": "sXSN95vfib9h"
      },
      "source": [
        "**Result : NOT ACCEPTABLE**\n",
        "\n",
        "The Living space and the rent doesn't have an acceptable linear relationship"
      ]
    },
    {
      "cell_type": "markdown",
      "metadata": {
        "id": "8CBXKC0Y0Hcw"
      },
      "source": [
        "Now let's try incorporating another variable - the region. For example the rent in Bavaria is normally higher than the rest of Germany. We did not take that into account before. \n",
        "\n",
        "To convert categorical variable geo_bln into a numerical variable with some meaning, sort the regions based on the average rent in each region. The index of the resultant array will provide a suitable number for each category corresponding to the region."
      ]
    },
    {
      "cell_type": "code",
      "metadata": {
        "colab": {
          "base_uri": "https://localhost:8080/",
          "height": 319
        },
        "id": "mvIp_gSBjdyP",
        "outputId": "cbca25af-98ac-4fc9-eea1-758a562d30d7"
      },
      "source": [
        "states = df[\"geo_bln\"].unique()\n",
        "\n",
        "# sort the regions based on the average rent\n",
        "region_mean = df.groupby(\"geo_bln\").mean()[\"totalRent\"]\n",
        "region_mean = region_mean.sort_values().keys().to_list()\n",
        "\n",
        "print(region_mean)\n",
        "\n",
        "# add a new column region_id which is proportional to the average rent in that region\n",
        "for index, row in df.iterrows():\n",
        "  df.loc[index,'region_id'] = region_mean.index(row[\"geo_bln\"])\n",
        "\n",
        "y = df[[\"totalRent\"]]\n",
        "region = df[[\"region_id\"]]\n",
        "space = df[[\"livingSpace\"]]\n",
        "\n",
        "plt.scatter(region, y)"
      ],
      "execution_count": 143,
      "outputs": [
        {
          "output_type": "stream",
          "text": [
            "['Brandenburg', 'Sachsen', 'Sachsen_Anhalt', 'Nordrhein_Westfalen', 'Mecklenburg_Vorpommern', 'Schleswig_Holstein', 'Hamburg', 'Hessen', 'Rheinland_Pfalz', 'Berlin', 'Bayern']\n"
          ],
          "name": "stdout"
        },
        {
          "output_type": "execute_result",
          "data": {
            "text/plain": [
              "<matplotlib.collections.PathCollection at 0x7f5ae19516d0>"
            ]
          },
          "metadata": {
            "tags": []
          },
          "execution_count": 143
        },
        {
          "output_type": "display_data",
          "data": {
            "image/png": "[encoded data removed]",
            "text/plain": [
              "<Figure size 432x288 with 1 Axes>"
            ]
          },
          "metadata": {
            "tags": [],
            "needs_background": "light"
          }
        }
      ]
    },
    {
      "cell_type": "markdown",
      "metadata": {
        "id": "m_ZD12vj1BXg"
      },
      "source": [
        "Now try multiple linear regression with region id and living space as independant variables."
      ]
    },
    {
      "cell_type": "code",
      "metadata": {
        "colab": {
          "base_uri": "https://localhost:8080/"
        },
        "id": "9zmr6LEdy36x",
        "outputId": "805fc4fa-f8ba-4391-8082-bfcfa3bc4de8"
      },
      "source": [
        "x = np.asanyarray(df[['region_id','livingSpace']])\n",
        "y = np.asanyarray(df[['totalRent']])\n",
        "x_train, x_test, y_train, y_test = train_test_split(x, y, test_size=0.3)\n",
        "\n",
        "reg = LinearRegression()\n",
        "reg.fit (x, y)\n",
        "# The coefficients\n",
        "print ('Coefficients: ', reg.coef_)\n",
        "\n",
        "predicted_y = reg.predict(x_test)\n",
        "\n",
        "print(\"Mean absolute error: %.2f\" % np.mean(np.absolute(predicted_y - y_test)))\n",
        "print(\"Residual sum of squares (MSE): %.2f\" % np.mean((predicted_y - y_test) ** 2))\n",
        "print(\"R2-score: %.2f\" % r2_score(predicted_y , y_test))"
      ],
      "execution_count": 139,
      "outputs": [
        {
          "output_type": "stream",
          "text": [
            "Coefficients:  [[113.17232364   6.98574762]]\n",
            "Mean absolute error: 122.66\n",
            "Residual sum of squares (MSE): 21809.82\n",
            "R2-score: 0.90\n"
          ],
          "name": "stdout"
        }
      ]
    },
    {
      "cell_type": "markdown",
      "metadata": {
        "id": "votIfbBS1K1D"
      },
      "source": [
        "A quite acceptable R2 score! \n",
        "\n",
        "NOTE : Another approach would be using the average rent in the region directly instead of the region id. "
      ]
    },
    {
      "cell_type": "code",
      "metadata": {
        "colab": {
          "base_uri": "https://localhost:8080/"
        },
        "id": "6siEcXdA2Qu-",
        "outputId": "ebc06242-a66d-4f8b-a8be-6f42030e92bd"
      },
      "source": [
        "reg.predict([[1, 58]])"
      ],
      "execution_count": 145,
      "outputs": [
        {
          "output_type": "execute_result",
          "data": {
            "text/plain": [
              "array([[386.90433266]])"
            ]
          },
          "metadata": {
            "tags": []
          },
          "execution_count": 145
        }
      ]
    }
  ]
}